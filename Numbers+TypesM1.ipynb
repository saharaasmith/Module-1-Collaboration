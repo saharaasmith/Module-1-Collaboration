{
 "cells": [
  {
   "cell_type": "code",
   "execution_count": 23,
   "id": "41171375-b26f-4f18-ab98-1979cf8fc565",
   "metadata": {},
   "outputs": [
    {
     "name": "stdout",
     "output_type": "stream",
     "text": [
      "There are 60 seconds in an hour.\n"
     ]
    }
   ],
   "source": [
    "# 3.1\n",
    "seconds_in_hour = 60\n",
    "min_in_hour = 60\n",
    "seconds_in_hour * min_in_hour == seconds_in_hour\n",
    "print(\"There are\", seconds_in_hour, \"seconds in an hour.\")"
   ]
  },
  {
   "cell_type": "code",
   "execution_count": 30,
   "id": "e13a3c48-6d6e-49db-96a7-6d5ef5ac665d",
   "metadata": {},
   "outputs": [
    {
     "name": "stdout",
     "output_type": "stream",
     "text": [
      "60\n"
     ]
    }
   ],
   "source": [
    "# 3.2\n",
    "seconds_per_hour = seconds_in_hour\n",
    "print(seconds_per_hour)"
   ]
  },
  {
   "cell_type": "code",
   "execution_count": 31,
   "id": "90b41198-a5a3-4145-b27e-e289b7d4ae74",
   "metadata": {},
   "outputs": [
    {
     "name": "stdout",
     "output_type": "stream",
     "text": [
      "There are 86400 seconds per day.\n"
     ]
    }
   ],
   "source": [
    "# 3.3\n",
    "hours_day = 24\n",
    "seconds_day = seconds_per_hour * hours_day * min_in_hour\n",
    "print(\"There are\", seconds_day, \"seconds per day.\")"
   ]
  },
  {
   "cell_type": "code",
   "execution_count": 32,
   "id": "3fd9c67a-3fca-4b41-b4fc-5ea7c85239bd",
   "metadata": {},
   "outputs": [
    {
     "name": "stdout",
     "output_type": "stream",
     "text": [
      "86400\n"
     ]
    }
   ],
   "source": [
    "# 3.4\n",
    "seconds_per_day = seconds_day\n",
    "print(seconds_per_day)"
   ]
  },
  {
   "cell_type": "code",
   "execution_count": 33,
   "id": "4a65a3dd-e16b-4373-a049-093ff970bcf6",
   "metadata": {},
   "outputs": [
    {
     "name": "stdout",
     "output_type": "stream",
     "text": [
      "1440.0\n"
     ]
    }
   ],
   "source": [
    "# 3.5\n",
    "x = seconds_per_day/seconds_per_hour\n",
    "print(x)"
   ]
  },
  {
   "cell_type": "code",
   "execution_count": null,
   "id": "741dfd2f-7210-416e-bff7-b7e01e6a5684",
   "metadata": {},
   "outputs": [],
   "source": [
    "# 3.6\n",
    "y = sec"
   ]
  }
 ],
 "metadata": {
  "kernelspec": {
   "display_name": "Python [conda env:base] *",
   "language": "python",
   "name": "conda-base-py"
  },
  "language_info": {
   "codemirror_mode": {
    "name": "ipython",
    "version": 3
   },
   "file_extension": ".py",
   "mimetype": "text/x-python",
   "name": "python",
   "nbconvert_exporter": "python",
   "pygments_lexer": "ipython3",
   "version": "3.13.5"
  }
 },
 "nbformat": 4,
 "nbformat_minor": 5
}
